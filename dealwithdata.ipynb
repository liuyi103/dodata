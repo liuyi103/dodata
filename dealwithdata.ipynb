{
 "cells": [
  {
   "cell_type": "code",
   "execution_count": 1,
   "metadata": {
    "collapsed": true
   },
   "outputs": [],
   "source": [
    "f = file('log_example', 'r')"
   ]
  },
  {
   "cell_type": "code",
   "execution_count": 2,
   "metadata": {
    "collapsed": true
   },
   "outputs": [],
   "source": [
    "data = f.readlines()"
   ]
  },
  {
   "cell_type": "code",
   "execution_count": 3,
   "metadata": {
    "collapsed": true
   },
   "outputs": [],
   "source": [
    "a = data[0]"
   ]
  },
  {
   "cell_type": "code",
   "execution_count": 4,
   "metadata": {
    "collapsed": true
   },
   "outputs": [],
   "source": [
    "items = a.split('\\t')"
   ]
  },
  {
   "cell_type": "code",
   "execution_count": 5,
   "metadata": {
    "collapsed": false
   },
   "outputs": [
    {
     "data": {
      "text/plain": [
       "267"
      ]
     },
     "execution_count": 5,
     "metadata": {},
     "output_type": "execute_result"
    }
   ],
   "source": [
    "len(items)"
   ]
  },
  {
   "cell_type": "code",
   "execution_count": 6,
   "metadata": {
    "collapsed": false
   },
   "outputs": [
    {
     "name": "stdout",
     "output_type": "stream",
     "text": [
      "['1', '0', '0', '\\xb1\\xb1\\xbe\\xa9\\xb0\\xc2\\xbf\\xcbab\\xbd\\xba', '117.136.45.242', 'baiduwap_ws', 'bd052fd5b8d49f5e', '9760D1AC67254B83221CC7FEB36015B5', '3', '228', '31', '502502522', '2', 'we30', '5612133570', '1906265', '1291449', '1104309', '3281', '172']\n"
     ]
    }
   ],
   "source": [
    "print items[:20]"
   ]
  },
  {
   "cell_type": "code",
   "execution_count": 16,
   "metadata": {
    "collapsed": false
   },
   "outputs": [
    {
     "name": "stdout",
     "output_type": "stream",
     "text": [
      "{'ops1010888o': 1, '844b_ws': 6, 'ops1012078a': 1, 'ksws4': 9, 'ops1010265h': 1, 'xmbj_ws': 1, 'ops1002253v': 1, 'kupai_ws': 4, 'ops1012808k': 1, 'ops1010229a': 1, '57002059_ws': 1, 'ops1012224a': 1, 'ops1012486o': 1, 'ops1013912d': 1, '00070045_6_ws': 1, '21023099_15_ws': 1, 'ops1013724d': 1, 'ops1013262g': 1, 'ops1012702i': 1, 'ops1001163f': 1, 'ops1012702z': 1, 'ops1009664a': 2, 'ops1009928c': 1, 'baiduwap_ws': 14, 'samsung2_13_ws': 1, 'ops1000953b': 2, 'ops1013966a': 1, 'ksws1': 2, 'ksws3': 6, '39013068_50_ws': 1, 'ops1012704w': 1, 'ops1012073a': 1, 'ops1011267l': 1, 'ops1008431n': 1, 'ops1011267h': 1, 'browser1_ws': 3, 'ops1012024a': 1, 'ops1011267b': 1, 'ops1012015a': 1, 'ops1001560s': 1, 'ops1013507b': 1, 'ops1013692c': 1, 'ops1010031g': 1, '39013068_1_ws': 1, 'ops1011267m': 1, 'ops1012023a': 1, 'SE_im_wabjtam1': 4, 'ucfly': 5, 'appstore_ws': 4, 'ops1012575g': 1, '77009019_cpr': 1}\n"
     ]
    }
   ],
   "source": [
    "jifei = {}\n",
    "for line in data:\n",
    "    tmp = line.split('\\t')[5]\n",
    "    jifei[tmp] = jifei.get(tmp, 0) + 1\n",
    "print jifei"
   ]
  },
  {
   "cell_type": "markdown",
   "metadata": {},
   "source": [
    "# The first chr\n",
    "show (two bit), clk (2 bit), hash_query (4 bit)?\n"
   ]
  },
  {
   "cell_type": "code",
   "execution_count": 13,
   "metadata": {
    "collapsed": false
   },
   "outputs": [
    {
     "data": {
      "text/plain": [
       "200"
      ]
     },
     "execution_count": 13,
     "metadata": {},
     "output_type": "execute_result"
    }
   ],
   "source": [
    "ord(chr(200))"
   ]
  },
  {
   "cell_type": "code",
   "execution_count": 15,
   "metadata": {
    "collapsed": true
   },
   "outputs": [],
   "source": [
    "items[0] = int(items[0])\n",
    "items[1] = int(items[1])\n",
    "if items[0] > 3:\n",
    "    items[0] = 3\n",
    "if items[1] > 3:\n",
    "    items[1] = 3\n",
    "c1 = chr((items[0]<<6) + (items[1]<<4) + hash(items[3]) %16)"
   ]
  },
  {
   "cell_type": "markdown",
   "metadata": {},
   "source": [
    "# The second \n",
    "use 16 bit for price"
   ]
  },
  {
   "cell_type": "code",
   "execution_count": null,
   "metadata": {
    "collapsed": true
   },
   "outputs": [],
   "source": [
    "items[2] = int(items[2])\n",
    "if items[2] >= (1<<16):\n",
    "    items[2] = (1<<16)-1\n",
    "c2 = chr(items[2]/256)\n",
    "c3 = chr(items[2]%256)\n"
   ]
  }
 ],
 "metadata": {
  "kernelspec": {
   "display_name": "Python 2",
   "language": "python",
   "name": "python2"
  },
  "language_info": {
   "codemirror_mode": {
    "name": "ipython",
    "version": 2
   },
   "file_extension": ".py",
   "mimetype": "text/x-python",
   "name": "python",
   "nbconvert_exporter": "python",
   "pygments_lexer": "ipython2",
   "version": "2.7.10"
  }
 },
 "nbformat": 4,
 "nbformat_minor": 0
}
